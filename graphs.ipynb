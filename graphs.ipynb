// sample file for thinking scientifically
